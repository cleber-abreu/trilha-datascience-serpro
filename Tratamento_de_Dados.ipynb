{
  "nbformat": 4,
  "nbformat_minor": 0,
  "metadata": {
    "colab": {
      "name": "Tratamento de Dados.ipynb",
      "provenance": [],
      "authorship_tag": "ABX9TyNjbXNLaNhIIMyapmtGLA/X",
      "include_colab_link": true
    },
    "kernelspec": {
      "name": "python3",
      "display_name": "Python 3"
    }
  },
  "cells": [
    {
      "cell_type": "markdown",
      "metadata": {
        "id": "view-in-github",
        "colab_type": "text"
      },
      "source": [
        "<a href=\"https://colab.research.google.com/github/cleber-abreu/trilha-datascience-serpro/blob/master/Tratamento_de_Dados.ipynb\" target=\"_parent\"><img src=\"https://colab.research.google.com/assets/colab-badge.svg\" alt=\"Open In Colab\"/></a>"
      ]
    },
    {
      "cell_type": "markdown",
      "metadata": {
        "id": "EFBuAh0OSaw0",
        "colab_type": "text"
      },
      "source": [
        "# Tratamento de Dados"
      ]
    },
    {
      "cell_type": "markdown",
      "metadata": {
        "id": "BLbyx63LSd6E",
        "colab_type": "text"
      },
      "source": [
        "# Limpeza de dados"
      ]
    },
    {
      "cell_type": "markdown",
      "metadata": {
        "id": "pd4X-g2NhVdh",
        "colab_type": "text"
      },
      "source": [
        "Obtendo os dados"
      ]
    },
    {
      "cell_type": "code",
      "metadata": {
        "id": "6_C-lO2hSYvE",
        "colab_type": "code",
        "colab": {
          "base_uri": "https://localhost:8080/",
          "height": 204
        },
        "outputId": "6c67aedb-f7f7-4b3b-de02-e2c287485bec"
      },
      "source": [
        "!wget 'https://moodle.ead.serpro.gov.br/moodledata-uniserpro/repository/curso_analise_dados/biblioteca/base_dados/siconv.db' --no-check-certificate"
      ],
      "execution_count": 141,
      "outputs": [
        {
          "output_type": "stream",
          "text": [
            "--2020-06-18 17:01:16--  https://moodle.ead.serpro.gov.br/moodledata-uniserpro/repository/curso_analise_dados/biblioteca/base_dados/siconv.db\n",
            "Resolving moodle.ead.serpro.gov.br (moodle.ead.serpro.gov.br)... 161.148.24.235\n",
            "Connecting to moodle.ead.serpro.gov.br (moodle.ead.serpro.gov.br)|161.148.24.235|:443... connected.\n",
            "HTTP request sent, awaiting response... 200 OK\n",
            "Length: 154271744 (147M) [text/plain]\n",
            "Saving to: ‘siconv.db.1’\n",
            "\n",
            "siconv.db.1         100%[===================>] 147.12M  19.0MB/s    in 19s     \n",
            "\n",
            "2020-06-18 17:01:36 (7.73 MB/s) - ‘siconv.db.1’ saved [154271744/154271744]\n",
            "\n"
          ],
          "name": "stdout"
        }
      ]
    },
    {
      "cell_type": "markdown",
      "metadata": {
        "id": "cSPi1dcMTkYW",
        "colab_type": "text"
      },
      "source": [
        "Leitura dos dados da tabela `\"convenios\"` presente na base de dados SICONV. \n",
        "\n",
        "Os dados estão disponíveis em formato SQLite."
      ]
    },
    {
      "cell_type": "code",
      "metadata": {
        "id": "hXFa85REhY-M",
        "colab_type": "code",
        "colab": {
          "base_uri": "https://localhost:8080/",
          "height": 966
        },
        "outputId": "0ae0e546-a2f7-4d4b-b323-ac3832411523"
      },
      "source": [
        "import sqlite3\n",
        "import pandas as pd\n",
        "\n",
        "db = sqlite3.connect('siconv.db')\n",
        "\n",
        "dados_convenios = pd.read_sql_query(\"SELECT * FROM convenio\", db)\n",
        "dados_convenios"
      ],
      "execution_count": 142,
      "outputs": [
        {
          "output_type": "execute_result",
          "data": {
            "text/html": [
              "<div>\n",
              "<style scoped>\n",
              "    .dataframe tbody tr th:only-of-type {\n",
              "        vertical-align: middle;\n",
              "    }\n",
              "\n",
              "    .dataframe tbody tr th {\n",
              "        vertical-align: top;\n",
              "    }\n",
              "\n",
              "    .dataframe thead th {\n",
              "        text-align: right;\n",
              "    }\n",
              "</style>\n",
              "<table border=\"1\" class=\"dataframe\">\n",
              "  <thead>\n",
              "    <tr style=\"text-align: right;\">\n",
              "      <th></th>\n",
              "      <th>Ano_Convenio</th>\n",
              "      <th>Nr_Convenio</th>\n",
              "      <th>Ano_Proposta</th>\n",
              "      <th>Nr_Proposta</th>\n",
              "      <th>Tx_Modalidade</th>\n",
              "      <th>Cd_Orgao_Superior</th>\n",
              "      <th>Nm_Orgao_Superior</th>\n",
              "      <th>Cd_Orgao_Concedente</th>\n",
              "      <th>Nm_Orgao_Concedente</th>\n",
              "      <th>Tx_Esfera_Adm_Proponente</th>\n",
              "      <th>Tx_Regiao_Proponente</th>\n",
              "      <th>Uf_Proponente</th>\n",
              "      <th>Nm_Municipio_Proponente</th>\n",
              "      <th>Cd_Identif_Proponente</th>\n",
              "      <th>Nm_Proponente</th>\n",
              "      <th>Cd_Programa</th>\n",
              "      <th>Nm_Programa</th>\n",
              "      <th>Dt_Inicio_Vigencia</th>\n",
              "      <th>Dt_Fim_Vigencia</th>\n",
              "      <th>Dt_Assinatura_Convenio</th>\n",
              "      <th>Vl_Global</th>\n",
              "      <th>Vl_Repasse</th>\n",
              "      <th>Vl_Contrapartida_Total</th>\n",
              "      <th>Vl_Contrapartida_Financ</th>\n",
              "      <th>Vl_Contrapartida_Bens_Serv</th>\n",
              "      <th>Vl_Desembolsado</th>\n",
              "      <th>Vl_Empenhado</th>\n",
              "      <th>Tx_Objeto_Convenio</th>\n",
              "      <th>Tx_Justificativa</th>\n",
              "      <th>Cd_Respons_Proponente</th>\n",
              "      <th>Tx_Cargo_Respons_Proponente</th>\n",
              "      <th>Nm_Respons_Concedente</th>\n",
              "      <th>Cd_Respons_Concedente</th>\n",
              "      <th>Tx_Cargo_Respons_Concedente</th>\n",
              "      <th>Qt_Aditivos</th>\n",
              "      <th>Qt_Prorrogas</th>\n",
              "      <th>Tx_Qualific_Proponente</th>\n",
              "    </tr>\n",
              "  </thead>\n",
              "  <tbody>\n",
              "    <tr>\n",
              "      <th>0</th>\n",
              "      <td>2008</td>\n",
              "      <td>700001</td>\n",
              "      <td>2008</td>\n",
              "      <td>113</td>\n",
              "      <td>Convênio</td>\n",
              "      <td>54000</td>\n",
              "      <td>MINISTERIO DO TURISMO</td>\n",
              "      <td>54000</td>\n",
              "      <td>MINISTERIO DO TURISMO</td>\n",
              "      <td>PRIVADA</td>\n",
              "      <td>Nordeste</td>\n",
              "      <td>BA</td>\n",
              "      <td>SALVADOR</td>\n",
              "      <td>550543000182</td>\n",
              "      <td>ASSOCIACAO BRASILEIRA DOS CLUBES DA MELHOR IDA...</td>\n",
              "      <td>5400020080001</td>\n",
              "      <td>Turismo Social no Brasil: Uma Viagem de Inclus...</td>\n",
              "      <td>15/09/2008</td>\n",
              "      <td>15/12/2008</td>\n",
              "      <td>15/09/2008</td>\n",
              "      <td>110000,00</td>\n",
              "      <td>99000,00</td>\n",
              "      <td>11000,00</td>\n",
              "      <td>11000,00</td>\n",
              "      <td>0,00</td>\n",
              "      <td>0,00</td>\n",
              "      <td>99000,00</td>\n",
              "      <td>Promoção do Turismo na Bahia atraves do I Enco...</td>\n",
              "      <td>ABCMI  Nacional Associação Brasileira dos Club...</td>\n",
              "      <td>21471185591</td>\n",
              "      <td>Presidente</td>\n",
              "      <td>LUIZ EDUARDO BARRETTO FILHO</td>\n",
              "      <td>07588185805</td>\n",
              "      <td>Ministro de Estado do Turismo</td>\n",
              "      <td>None</td>\n",
              "      <td>None</td>\n",
              "      <td>REPASSE_VOLUNTARIO</td>\n",
              "    </tr>\n",
              "    <tr>\n",
              "      <th>1</th>\n",
              "      <td>2008</td>\n",
              "      <td>700002</td>\n",
              "      <td>2008</td>\n",
              "      <td>123</td>\n",
              "      <td>Convênio</td>\n",
              "      <td>54000</td>\n",
              "      <td>MINISTERIO DO TURISMO</td>\n",
              "      <td>54000</td>\n",
              "      <td>MINISTERIO DO TURISMO</td>\n",
              "      <td>PRIVADA</td>\n",
              "      <td>Centro-Oeste</td>\n",
              "      <td>DF</td>\n",
              "      <td>BRASILIA</td>\n",
              "      <td>7359752000192</td>\n",
              "      <td>CONFEDERACAO BRASILEIRA DE CONVENTION &amp; VISITO...</td>\n",
              "      <td>5400020080001</td>\n",
              "      <td>Turismo Social no Brasil: Uma Viagem de Inclus...</td>\n",
              "      <td>17/09/2008</td>\n",
              "      <td>28/05/2009</td>\n",
              "      <td>17/09/2008</td>\n",
              "      <td>122222,23</td>\n",
              "      <td>110000,00</td>\n",
              "      <td>12222,23</td>\n",
              "      <td>12222,23</td>\n",
              "      <td>0,00</td>\n",
              "      <td>110000,00</td>\n",
              "      <td>110000,00</td>\n",
              "      <td>Promoção do Turismo Interno Nacionacio - BRASI...</td>\n",
              "      <td>Brasília, a capital do país, tem lindos cartõe...</td>\n",
              "      <td>15171701687</td>\n",
              "      <td>VICE-PRESIDENTE</td>\n",
              "      <td>LUIZ EDUARDO BARRETTO FILHO</td>\n",
              "      <td>07588185805</td>\n",
              "      <td>Ministro de Estado do Turismo</td>\n",
              "      <td>None</td>\n",
              "      <td>None</td>\n",
              "      <td>REPASSE_VOLUNTARIO</td>\n",
              "    </tr>\n",
              "    <tr>\n",
              "      <th>2</th>\n",
              "      <td>2008</td>\n",
              "      <td>700003</td>\n",
              "      <td>2008</td>\n",
              "      <td>216</td>\n",
              "      <td>Convênio</td>\n",
              "      <td>54000</td>\n",
              "      <td>MINISTERIO DO TURISMO</td>\n",
              "      <td>54000</td>\n",
              "      <td>MINISTERIO DO TURISMO</td>\n",
              "      <td>ESTADUAL</td>\n",
              "      <td>Nordeste</td>\n",
              "      <td>CE</td>\n",
              "      <td>FORTALEZA</td>\n",
              "      <td>671077000193</td>\n",
              "      <td>SECRETARIA DO TURISMO</td>\n",
              "      <td>5400020080007</td>\n",
              "      <td>PROMOÇÃO E PARTICIPAÇÃO EM EVENTOS TURISTICOS ...</td>\n",
              "      <td>17/09/2008</td>\n",
              "      <td>30/12/2008</td>\n",
              "      <td>None</td>\n",
              "      <td>334000,00</td>\n",
              "      <td>300000,00</td>\n",
              "      <td>34000,00</td>\n",
              "      <td>34000,00</td>\n",
              "      <td>0,00</td>\n",
              "      <td>0,00</td>\n",
              "      <td>None</td>\n",
              "      <td>O PROJETO TEM COMO OBJETO A REALIZAÇAO DO EVEN...</td>\n",
              "      <td>O ESTADO DO CEARÁ ,É CONSIDERADO POR VELEJADOR...</td>\n",
              "      <td>54824710715</td>\n",
              "      <td>Secretario Estadual de Turismo</td>\n",
              "      <td>LUIZ EDUARDO BARRETTO FILHO</td>\n",
              "      <td>07588185805</td>\n",
              "      <td>Ministro de Estado do Turismo</td>\n",
              "      <td>None</td>\n",
              "      <td>None</td>\n",
              "      <td>REPASSE_VOLUNTARIO</td>\n",
              "    </tr>\n",
              "    <tr>\n",
              "      <th>3</th>\n",
              "      <td>2008</td>\n",
              "      <td>700004</td>\n",
              "      <td>2008</td>\n",
              "      <td>121</td>\n",
              "      <td>Convênio</td>\n",
              "      <td>54000</td>\n",
              "      <td>MINISTERIO DO TURISMO</td>\n",
              "      <td>54000</td>\n",
              "      <td>MINISTERIO DO TURISMO</td>\n",
              "      <td>PRIVADA</td>\n",
              "      <td>Centro-Oeste</td>\n",
              "      <td>DF</td>\n",
              "      <td>BRASILIA</td>\n",
              "      <td>7359752000192</td>\n",
              "      <td>CONFEDERACAO BRASILEIRA DE CONVENTION &amp; VISITO...</td>\n",
              "      <td>5400020080001</td>\n",
              "      <td>Turismo Social no Brasil: Uma Viagem de Inclus...</td>\n",
              "      <td>19/09/2008</td>\n",
              "      <td>31/12/2008</td>\n",
              "      <td>19/09/2008</td>\n",
              "      <td>444445,00</td>\n",
              "      <td>400000,00</td>\n",
              "      <td>44445,00</td>\n",
              "      <td>44445,00</td>\n",
              "      <td>0,00</td>\n",
              "      <td>400000,00</td>\n",
              "      <td>400000,00</td>\n",
              "      <td>Promoção do Turismo Nacional através da realiz...</td>\n",
              "      <td>Por se tratar dos principais eventos dos setor...</td>\n",
              "      <td>15171701687</td>\n",
              "      <td>VICE-PRESIDENTE</td>\n",
              "      <td>LUIZ EDUARDO BARRETTO FILHO</td>\n",
              "      <td>07588185805</td>\n",
              "      <td>Ministro de Estado do Turismo</td>\n",
              "      <td>None</td>\n",
              "      <td>None</td>\n",
              "      <td>REPASSE_VOLUNTARIO</td>\n",
              "    </tr>\n",
              "    <tr>\n",
              "      <th>4</th>\n",
              "      <td>2008</td>\n",
              "      <td>700005</td>\n",
              "      <td>2008</td>\n",
              "      <td>54</td>\n",
              "      <td>Convênio</td>\n",
              "      <td>20113</td>\n",
              "      <td>MINISTERIO DO PLANEJAMENTO,ORCAMENTO E GESTAO</td>\n",
              "      <td>20113</td>\n",
              "      <td>MINISTERIO DO PLANEJAMENTO,ORCAMENTO E GESTAO</td>\n",
              "      <td>PRIVADA</td>\n",
              "      <td>Sudeste</td>\n",
              "      <td>SP</td>\n",
              "      <td>SAO PAULO</td>\n",
              "      <td>96538798000107</td>\n",
              "      <td>INSTITUTO DE PESQUISAS E PROJETOS SOCIAIS E TE...</td>\n",
              "      <td>2011320080001</td>\n",
              "      <td>1008 -  Inclusão Digital / Ação Observatório N...</td>\n",
              "      <td>31/10/2008</td>\n",
              "      <td>31/12/2010</td>\n",
              "      <td>31/10/2008</td>\n",
              "      <td>777825,00</td>\n",
              "      <td>699800,00</td>\n",
              "      <td>78025,00</td>\n",
              "      <td>0,00</td>\n",
              "      <td>78025,00</td>\n",
              "      <td>699800,00</td>\n",
              "      <td>699800,00</td>\n",
              "      <td>Manutenção, aperfeiçoamento e integração do Ob...</td>\n",
              "      <td>O Observatório Nacional de Inclusão Digital - ...</td>\n",
              "      <td>04821548887</td>\n",
              "      <td>Presidente</td>\n",
              "      <td>Catarina Maria Cavalcanti de Souza Lopez</td>\n",
              "      <td>16620534449</td>\n",
              "      <td>Coordenadora Geral de Recursos Logisticos</td>\n",
              "      <td>2</td>\n",
              "      <td>None</td>\n",
              "      <td>REPASSE_VOLUNTARIO</td>\n",
              "    </tr>\n",
              "    <tr>\n",
              "      <th>...</th>\n",
              "      <td>...</td>\n",
              "      <td>...</td>\n",
              "      <td>...</td>\n",
              "      <td>...</td>\n",
              "      <td>...</td>\n",
              "      <td>...</td>\n",
              "      <td>...</td>\n",
              "      <td>...</td>\n",
              "      <td>...</td>\n",
              "      <td>...</td>\n",
              "      <td>...</td>\n",
              "      <td>...</td>\n",
              "      <td>...</td>\n",
              "      <td>...</td>\n",
              "      <td>...</td>\n",
              "      <td>...</td>\n",
              "      <td>...</td>\n",
              "      <td>...</td>\n",
              "      <td>...</td>\n",
              "      <td>...</td>\n",
              "      <td>...</td>\n",
              "      <td>...</td>\n",
              "      <td>...</td>\n",
              "      <td>...</td>\n",
              "      <td>...</td>\n",
              "      <td>...</td>\n",
              "      <td>...</td>\n",
              "      <td>...</td>\n",
              "      <td>...</td>\n",
              "      <td>...</td>\n",
              "      <td>...</td>\n",
              "      <td>...</td>\n",
              "      <td>...</td>\n",
              "      <td>...</td>\n",
              "      <td>...</td>\n",
              "      <td>...</td>\n",
              "      <td>...</td>\n",
              "    </tr>\n",
              "    <tr>\n",
              "      <th>63032</th>\n",
              "      <td>2012</td>\n",
              "      <td>769304</td>\n",
              "      <td>2012</td>\n",
              "      <td>10460</td>\n",
              "      <td>Convênio</td>\n",
              "      <td>42000</td>\n",
              "      <td>MINISTERIO DA CULTURA</td>\n",
              "      <td>20412</td>\n",
              "      <td>FUNDACAO NACIONAL DE ARTES</td>\n",
              "      <td>MUNICIPAL</td>\n",
              "      <td>Sudeste</td>\n",
              "      <td>MG</td>\n",
              "      <td>BELO HORIZONTE</td>\n",
              "      <td>7252975000156</td>\n",
              "      <td>FUNDACAO MUNICIPAL DE CULTURA</td>\n",
              "      <td>2041220120002</td>\n",
              "      <td>Fomento e Promoção a Projetos em Arte e Cultura</td>\n",
              "      <td>01/06/2012</td>\n",
              "      <td>30/10/2012</td>\n",
              "      <td>None</td>\n",
              "      <td>315000,00</td>\n",
              "      <td>250000,00</td>\n",
              "      <td>65000,00</td>\n",
              "      <td>65000,00</td>\n",
              "      <td>0,00</td>\n",
              "      <td>0,00</td>\n",
              "      <td>250000,00</td>\n",
              "      <td>A realização do 11º FESTIVAL INTERNACIONAL DE ...</td>\n",
              "      <td>Na décima primeira edição, pretende-se não som...</td>\n",
              "      <td>51233673653</td>\n",
              "      <td>Presidente</td>\n",
              "      <td>ANTONIO CARLOS GRASSI</td>\n",
              "      <td>15561135600</td>\n",
              "      <td>Presidente</td>\n",
              "      <td>None</td>\n",
              "      <td>None</td>\n",
              "      <td>REPASSE_VOLUNTARIO</td>\n",
              "    </tr>\n",
              "    <tr>\n",
              "      <th>63033</th>\n",
              "      <td>2012</td>\n",
              "      <td>769305</td>\n",
              "      <td>2012</td>\n",
              "      <td>18773</td>\n",
              "      <td>Convênio</td>\n",
              "      <td>53000</td>\n",
              "      <td>MINISTERIO DA INTEGRACAO NACIONAL</td>\n",
              "      <td>22203</td>\n",
              "      <td>COMPANHIA DE DESENV. DO VALE DO SAO FRANCISCO</td>\n",
              "      <td>MUNICIPAL</td>\n",
              "      <td>Nordeste</td>\n",
              "      <td>BA</td>\n",
              "      <td>BARRA</td>\n",
              "      <td>13880703000101</td>\n",
              "      <td>BARRA PREFEITURA</td>\n",
              "      <td>2220320120006</td>\n",
              "      <td>2029 – Desenvolvimento Regional, Territorial S...</td>\n",
              "      <td>31/05/2012</td>\n",
              "      <td>31/05/2013</td>\n",
              "      <td>None</td>\n",
              "      <td>685000,00</td>\n",
              "      <td>665000,00</td>\n",
              "      <td>20000,00</td>\n",
              "      <td>20000,00</td>\n",
              "      <td>0,00</td>\n",
              "      <td>0,00</td>\n",
              "      <td>665000,00</td>\n",
              "      <td>Aquisição de uma Motoniveladora e um Caminhão.</td>\n",
              "      <td>O Município de Barra está localizado no Oeste ...</td>\n",
              "      <td>27473961691</td>\n",
              "      <td>Prefeito Municipal</td>\n",
              "      <td>LOURIVAL SOARES GUSMAO</td>\n",
              "      <td>06547524515</td>\n",
              "      <td>Superintendente Regional da 2ª SR</td>\n",
              "      <td>None</td>\n",
              "      <td>None</td>\n",
              "      <td>BENEFICIARIO_EMENDA_PARLAMENTAR</td>\n",
              "    </tr>\n",
              "    <tr>\n",
              "      <th>63034</th>\n",
              "      <td>2012</td>\n",
              "      <td>769306</td>\n",
              "      <td>2012</td>\n",
              "      <td>13485</td>\n",
              "      <td>Convênio</td>\n",
              "      <td>53000</td>\n",
              "      <td>MINISTERIO DA INTEGRACAO NACIONAL</td>\n",
              "      <td>22203</td>\n",
              "      <td>COMPANHIA DE DESENV. DO VALE DO SAO FRANCISCO</td>\n",
              "      <td>MUNICIPAL</td>\n",
              "      <td>Nordeste</td>\n",
              "      <td>MA</td>\n",
              "      <td>SAO JOAO DO SOTER</td>\n",
              "      <td>1612628000100</td>\n",
              "      <td>MUNICIPIO DE SAO JOAO DO SOTER - PREFEITURA MU...</td>\n",
              "      <td>2220320120033</td>\n",
              "      <td>2029 - Desenvolvimento Regional, Territorial S...</td>\n",
              "      <td>15/05/2012</td>\n",
              "      <td>31/12/2012</td>\n",
              "      <td>None</td>\n",
              "      <td>1000571,91</td>\n",
              "      <td>950000,00</td>\n",
              "      <td>50571,91</td>\n",
              "      <td>50571,91</td>\n",
              "      <td>0,00</td>\n",
              "      <td>0,00</td>\n",
              "      <td>950000,00</td>\n",
              "      <td>Recuperação de 16,56KM  em 03 (três) Estradas ...</td>\n",
              "      <td>O Município de São João do Sóter, Localizado n...</td>\n",
              "      <td>50844024368</td>\n",
              "      <td>PREFEITA</td>\n",
              "      <td>VALDINEY BEZERRA DE AMORIM</td>\n",
              "      <td>15264181420</td>\n",
              "      <td>Chefe de Gabinete</td>\n",
              "      <td>None</td>\n",
              "      <td>None</td>\n",
              "      <td>BENEFICIARIO_EMENDA_PARLAMENTAR</td>\n",
              "    </tr>\n",
              "    <tr>\n",
              "      <th>63035</th>\n",
              "      <td>2012</td>\n",
              "      <td>769307</td>\n",
              "      <td>2012</td>\n",
              "      <td>607</td>\n",
              "      <td>Convênio</td>\n",
              "      <td>22000</td>\n",
              "      <td>MINIST. DA AGRICUL.,PECUARIA E ABASTECIMENTO</td>\n",
              "      <td>22000</td>\n",
              "      <td>MINIST. DA AGRICUL.,PECUARIA E ABASTECIMENTO</td>\n",
              "      <td>MUNICIPAL</td>\n",
              "      <td>Sul</td>\n",
              "      <td>SC</td>\n",
              "      <td>PONTE SERRADA</td>\n",
              "      <td>82777236000101</td>\n",
              "      <td>PREFEITURA MUNICIPAL DE PONTE SERRADA</td>\n",
              "      <td>2200020120001</td>\n",
              "      <td>APOIO AO PEQUENO E MEDIO PRODUTOR AGROPECUARIO...</td>\n",
              "      <td>10/05/2012</td>\n",
              "      <td>10/08/2012</td>\n",
              "      <td>None</td>\n",
              "      <td>109000,00</td>\n",
              "      <td>100000,00</td>\n",
              "      <td>9000,00</td>\n",
              "      <td>9000,00</td>\n",
              "      <td>0,00</td>\n",
              "      <td>0,00</td>\n",
              "      <td>100000,00</td>\n",
              "      <td>APOIAR A REALIZAÇÃO DA 21° FESTA CATARINENSE D...</td>\n",
              "      <td>Nos dias 11, 12 e 13 de Maio de 2012, será rea...</td>\n",
              "      <td>17632820906</td>\n",
              "      <td>PREFEITO MUNICIPAL</td>\n",
              "      <td>JORGE ALBERTO PORTANOVA MENDES RIBEIRO FILHO</td>\n",
              "      <td>16508513087</td>\n",
              "      <td>Ministro de Estado da Agricultura, PecuÃÂ¡ria...</td>\n",
              "      <td>None</td>\n",
              "      <td>None</td>\n",
              "      <td>BENEFICIARIO_EMENDA_PARLAMENTAR</td>\n",
              "    </tr>\n",
              "    <tr>\n",
              "      <th>63036</th>\n",
              "      <td>2012</td>\n",
              "      <td>769308</td>\n",
              "      <td>2012</td>\n",
              "      <td>17765</td>\n",
              "      <td>Convênio</td>\n",
              "      <td>53000</td>\n",
              "      <td>MINISTERIO DA INTEGRACAO NACIONAL</td>\n",
              "      <td>53000</td>\n",
              "      <td>MINISTERIO DA INTEGRACAO NACIONAL</td>\n",
              "      <td>MUNICIPAL</td>\n",
              "      <td>Centro-Oeste</td>\n",
              "      <td>GO</td>\n",
              "      <td>JATAI</td>\n",
              "      <td>1165729000180</td>\n",
              "      <td>PREFEITURA MUNICIPAL DE JATAI</td>\n",
              "      <td>5300020120015</td>\n",
              "      <td>2040-Gestão de Riscos e Resposta a Desastres-S...</td>\n",
              "      <td>30/06/2012</td>\n",
              "      <td>30/06/2013</td>\n",
              "      <td>None</td>\n",
              "      <td>5208334,00</td>\n",
              "      <td>5000000,00</td>\n",
              "      <td>208334,00</td>\n",
              "      <td>208334,00</td>\n",
              "      <td>0,00</td>\n",
              "      <td>0,00</td>\n",
              "      <td>5000000,00</td>\n",
              "      <td>Canalização e Reurbanização do Córrego Jataí –...</td>\n",
              "      <td>O Município de Jataí, Estado de Goiás, possui ...</td>\n",
              "      <td>34166580191</td>\n",
              "      <td>PREFEITO MUNICIPAL</td>\n",
              "      <td>FERNANDO BEZERRA DE SOUZA COELHO</td>\n",
              "      <td>01077887809</td>\n",
              "      <td>Ministro</td>\n",
              "      <td>None</td>\n",
              "      <td>None</td>\n",
              "      <td>BENEFICIARIO_EMENDA_PARLAMENTAR</td>\n",
              "    </tr>\n",
              "  </tbody>\n",
              "</table>\n",
              "<p>63037 rows × 37 columns</p>\n",
              "</div>"
            ],
            "text/plain": [
              "      Ano_Convenio Nr_Convenio  ... Qt_Prorrogas           Tx_Qualific_Proponente\n",
              "0             2008      700001  ...         None               REPASSE_VOLUNTARIO\n",
              "1             2008      700002  ...         None               REPASSE_VOLUNTARIO\n",
              "2             2008      700003  ...         None               REPASSE_VOLUNTARIO\n",
              "3             2008      700004  ...         None               REPASSE_VOLUNTARIO\n",
              "4             2008      700005  ...         None               REPASSE_VOLUNTARIO\n",
              "...            ...         ...  ...          ...                              ...\n",
              "63032         2012      769304  ...         None               REPASSE_VOLUNTARIO\n",
              "63033         2012      769305  ...         None  BENEFICIARIO_EMENDA_PARLAMENTAR\n",
              "63034         2012      769306  ...         None  BENEFICIARIO_EMENDA_PARLAMENTAR\n",
              "63035         2012      769307  ...         None  BENEFICIARIO_EMENDA_PARLAMENTAR\n",
              "63036         2012      769308  ...         None  BENEFICIARIO_EMENDA_PARLAMENTAR\n",
              "\n",
              "[63037 rows x 37 columns]"
            ]
          },
          "metadata": {
            "tags": []
          },
          "execution_count": 142
        }
      ]
    },
    {
      "cell_type": "markdown",
      "metadata": {
        "id": "8V4cnIKphLBn",
        "colab_type": "text"
      },
      "source": [
        "Tratando dados ausentes"
      ]
    },
    {
      "cell_type": "markdown",
      "metadata": {
        "id": "FVfCE7nOsEJs",
        "colab_type": "text"
      },
      "source": [
        "Substituindo vírgulas por ponto nos campos que representam números reais."
      ]
    },
    {
      "cell_type": "code",
      "metadata": {
        "id": "GLOhlgBmDL9U",
        "colab_type": "code",
        "colab": {}
      },
      "source": [
        "# colunas que possuem valores numericos\n",
        "colunas_valores = dados_convenios.columns[dados_convenios.columns.str.contains('Vl_')]"
      ],
      "execution_count": 143,
      "outputs": []
    },
    {
      "cell_type": "code",
      "metadata": {
        "id": "RAs_3X8qq8H1",
        "colab_type": "code",
        "colab": {}
      },
      "source": [
        "dados_convenios[colunas_valores] = dados_convenios[colunas_valores].apply(\n",
        "    lambda x: x.str.replace(',', '.', 1))"
      ],
      "execution_count": 144,
      "outputs": []
    },
    {
      "cell_type": "markdown",
      "metadata": {
        "id": "TkExKipo8EIE",
        "colab_type": "text"
      },
      "source": [
        "Inferencia de tipos"
      ]
    },
    {
      "cell_type": "code",
      "metadata": {
        "id": "9Lv27kUNvL4M",
        "colab_type": "code",
        "colab": {}
      },
      "source": [
        "for col in colunas_valores:\n",
        "  # removendo caracteres '(' ')'\n",
        "  dados_convenios[col] = dados_convenios[col].str.replace('(', '', 1)\n",
        "  dados_convenios[col] = dados_convenios[col].str.replace(')', '', 1)\n",
        "\n",
        "  # removendo espaços\n",
        "  dados_convenios[col] = dados_convenios[col].str.strip()\n",
        "  \n",
        "  # convertendo para tipo numerico\n",
        "  dados_convenios[col] = pd.to_numeric(dados_convenios[col], errors='coerce')"
      ],
      "execution_count": 145,
      "outputs": []
    },
    {
      "cell_type": "code",
      "metadata": {
        "id": "KCA9DFot5Yoj",
        "colab_type": "code",
        "colab": {
          "base_uri": "https://localhost:8080/",
          "height": 204
        },
        "outputId": "0717150f-8197-43fd-b2e0-41633d185766"
      },
      "source": [
        "dados_convenios[colunas_valores].head()"
      ],
      "execution_count": 146,
      "outputs": [
        {
          "output_type": "execute_result",
          "data": {
            "text/html": [
              "<div>\n",
              "<style scoped>\n",
              "    .dataframe tbody tr th:only-of-type {\n",
              "        vertical-align: middle;\n",
              "    }\n",
              "\n",
              "    .dataframe tbody tr th {\n",
              "        vertical-align: top;\n",
              "    }\n",
              "\n",
              "    .dataframe thead th {\n",
              "        text-align: right;\n",
              "    }\n",
              "</style>\n",
              "<table border=\"1\" class=\"dataframe\">\n",
              "  <thead>\n",
              "    <tr style=\"text-align: right;\">\n",
              "      <th></th>\n",
              "      <th>Vl_Global</th>\n",
              "      <th>Vl_Repasse</th>\n",
              "      <th>Vl_Contrapartida_Total</th>\n",
              "      <th>Vl_Contrapartida_Financ</th>\n",
              "      <th>Vl_Contrapartida_Bens_Serv</th>\n",
              "      <th>Vl_Desembolsado</th>\n",
              "      <th>Vl_Empenhado</th>\n",
              "    </tr>\n",
              "  </thead>\n",
              "  <tbody>\n",
              "    <tr>\n",
              "      <th>0</th>\n",
              "      <td>110000.00</td>\n",
              "      <td>99000.0</td>\n",
              "      <td>11000.00</td>\n",
              "      <td>11000.00</td>\n",
              "      <td>0.0</td>\n",
              "      <td>0.0</td>\n",
              "      <td>99000.0</td>\n",
              "    </tr>\n",
              "    <tr>\n",
              "      <th>1</th>\n",
              "      <td>122222.23</td>\n",
              "      <td>110000.0</td>\n",
              "      <td>12222.23</td>\n",
              "      <td>12222.23</td>\n",
              "      <td>0.0</td>\n",
              "      <td>110000.0</td>\n",
              "      <td>110000.0</td>\n",
              "    </tr>\n",
              "    <tr>\n",
              "      <th>2</th>\n",
              "      <td>334000.00</td>\n",
              "      <td>300000.0</td>\n",
              "      <td>34000.00</td>\n",
              "      <td>34000.00</td>\n",
              "      <td>0.0</td>\n",
              "      <td>0.0</td>\n",
              "      <td>NaN</td>\n",
              "    </tr>\n",
              "    <tr>\n",
              "      <th>3</th>\n",
              "      <td>444445.00</td>\n",
              "      <td>400000.0</td>\n",
              "      <td>44445.00</td>\n",
              "      <td>44445.00</td>\n",
              "      <td>0.0</td>\n",
              "      <td>400000.0</td>\n",
              "      <td>400000.0</td>\n",
              "    </tr>\n",
              "    <tr>\n",
              "      <th>4</th>\n",
              "      <td>777825.00</td>\n",
              "      <td>699800.0</td>\n",
              "      <td>78025.00</td>\n",
              "      <td>0.00</td>\n",
              "      <td>78025.0</td>\n",
              "      <td>699800.0</td>\n",
              "      <td>699800.0</td>\n",
              "    </tr>\n",
              "  </tbody>\n",
              "</table>\n",
              "</div>"
            ],
            "text/plain": [
              "   Vl_Global  Vl_Repasse  ...  Vl_Desembolsado  Vl_Empenhado\n",
              "0  110000.00     99000.0  ...              0.0       99000.0\n",
              "1  122222.23    110000.0  ...         110000.0      110000.0\n",
              "2  334000.00    300000.0  ...              0.0           NaN\n",
              "3  444445.00    400000.0  ...         400000.0      400000.0\n",
              "4  777825.00    699800.0  ...         699800.0      699800.0\n",
              "\n",
              "[5 rows x 7 columns]"
            ]
          },
          "metadata": {
            "tags": []
          },
          "execution_count": 146
        }
      ]
    },
    {
      "cell_type": "markdown",
      "metadata": {
        "id": "7m1WZ1_G1hc9",
        "colab_type": "text"
      },
      "source": [
        "Removendo colunas de dados numericos com mais de 1% de dados ausentes"
      ]
    },
    {
      "cell_type": "code",
      "metadata": {
        "id": "gIBc6mMTBym_",
        "colab_type": "code",
        "colab": {
          "base_uri": "https://localhost:8080/",
          "height": 34
        },
        "outputId": "c1b8194b-4fa0-4e78-ae34-898b2880af8e"
      },
      "source": [
        "dados_convenios.columns.size"
      ],
      "execution_count": 147,
      "outputs": [
        {
          "output_type": "execute_result",
          "data": {
            "text/plain": [
              "37"
            ]
          },
          "metadata": {
            "tags": []
          },
          "execution_count": 147
        }
      ]
    },
    {
      "cell_type": "code",
      "metadata": {
        "id": "_BoJQ0PnOTKt",
        "colab_type": "code",
        "colab": {}
      },
      "source": [
        "dados_convenios = dados_convenios.loc[:, dados_convenios.isnull().sum() < 0.01*dados_convenios.shape[0]]"
      ],
      "execution_count": 148,
      "outputs": []
    },
    {
      "cell_type": "code",
      "metadata": {
        "id": "cecLnNRheJQh",
        "colab_type": "code",
        "colab": {
          "base_uri": "https://localhost:8080/",
          "height": 34
        },
        "outputId": "85032b1b-2cdc-49ca-9b69-c69799d3d950"
      },
      "source": [
        "dados_convenios.columns.size"
      ],
      "execution_count": 149,
      "outputs": [
        {
          "output_type": "execute_result",
          "data": {
            "text/plain": [
              "33"
            ]
          },
          "metadata": {
            "tags": []
          },
          "execution_count": 149
        }
      ]
    },
    {
      "cell_type": "markdown",
      "metadata": {
        "id": "mFyxuiet6NnE",
        "colab_type": "text"
      },
      "source": [
        "Substituindo dados ausentes pela média"
      ]
    },
    {
      "cell_type": "code",
      "metadata": {
        "id": "b9WKW2A9HuXd",
        "colab_type": "code",
        "colab": {}
      },
      "source": [
        "# atualizando o array de colunas com valores\n",
        "colunas_valores = dados_convenios.columns[dados_convenios.columns.str.contains('Vl_')]"
      ],
      "execution_count": 150,
      "outputs": []
    },
    {
      "cell_type": "code",
      "metadata": {
        "colab_type": "code",
        "id": "Yat2jafH6D84",
        "colab": {
          "base_uri": "https://localhost:8080/",
          "height": 136
        },
        "outputId": "8d570511-3161-4a39-bf8d-8c71fde2a829"
      },
      "source": [
        "# contabilizando dados ausente por coluna\n",
        "dados_convenios[colunas_valores].isnull().sum()"
      ],
      "execution_count": 151,
      "outputs": [
        {
          "output_type": "execute_result",
          "data": {
            "text/plain": [
              "Vl_Global                      0\n",
              "Vl_Repasse                    38\n",
              "Vl_Contrapartida_Total         0\n",
              "Vl_Contrapartida_Financ        0\n",
              "Vl_Contrapartida_Bens_Serv     0\n",
              "Vl_Desembolsado                0\n",
              "dtype: int64"
            ]
          },
          "metadata": {
            "tags": []
          },
          "execution_count": 151
        }
      ]
    },
    {
      "cell_type": "code",
      "metadata": {
        "id": "BWlbkbyokmxv",
        "colab_type": "code",
        "colab": {
          "base_uri": "https://localhost:8080/",
          "height": 119
        },
        "outputId": "6d68b61a-be08-4d7b-b331-ce8ad1c35d15"
      },
      "source": [
        "dados_convenios.loc[dados_convenios['Vl_Repasse'].isnull(), 'Vl_Repasse'] = dados_convenios['Vl_Repasse'].mean()"
      ],
      "execution_count": 152,
      "outputs": [
        {
          "output_type": "stream",
          "text": [
            "/usr/local/lib/python3.6/dist-packages/pandas/core/indexing.py:966: SettingWithCopyWarning: \n",
            "A value is trying to be set on a copy of a slice from a DataFrame.\n",
            "Try using .loc[row_indexer,col_indexer] = value instead\n",
            "\n",
            "See the caveats in the documentation: https://pandas.pydata.org/pandas-docs/stable/user_guide/indexing.html#returning-a-view-versus-a-copy\n",
            "  self.obj[item] = s\n"
          ],
          "name": "stderr"
        }
      ]
    },
    {
      "cell_type": "code",
      "metadata": {
        "id": "3ODBZE4hl1XT",
        "colab_type": "code",
        "colab": {
          "base_uri": "https://localhost:8080/",
          "height": 136
        },
        "outputId": "1f838238-4b85-4a20-91a0-a1ae61fb0df1"
      },
      "source": [
        "dados_convenios[colunas_valores].isnull().sum()"
      ],
      "execution_count": 153,
      "outputs": [
        {
          "output_type": "execute_result",
          "data": {
            "text/plain": [
              "Vl_Global                     0\n",
              "Vl_Repasse                    0\n",
              "Vl_Contrapartida_Total        0\n",
              "Vl_Contrapartida_Financ       0\n",
              "Vl_Contrapartida_Bens_Serv    0\n",
              "Vl_Desembolsado               0\n",
              "dtype: int64"
            ]
          },
          "metadata": {
            "tags": []
          },
          "execution_count": 153
        }
      ]
    },
    {
      "cell_type": "markdown",
      "metadata": {
        "id": "XlImV9II_uSl",
        "colab_type": "text"
      },
      "source": [
        "# Redução de dados"
      ]
    },
    {
      "cell_type": "markdown",
      "metadata": {
        "id": "xrAwFeq9D80R",
        "colab_type": "text"
      },
      "source": [
        "Correlação linear dos dados"
      ]
    },
    {
      "cell_type": "code",
      "metadata": {
        "id": "wxirYcjxROns",
        "colab_type": "code",
        "colab": {}
      },
      "source": [
        "corr = dados_convenios[colunas_valores].corr()"
      ],
      "execution_count": 154,
      "outputs": []
    },
    {
      "cell_type": "code",
      "metadata": {
        "id": "Yh_YqbcGRnrx",
        "colab_type": "code",
        "colab": {
          "base_uri": "https://localhost:8080/",
          "height": 166
        },
        "outputId": "8edf357d-a72e-49a6-9900-0c283c6a0d06"
      },
      "source": [
        "corr.style.background_gradient(cmap='coolwarm')"
      ],
      "execution_count": 155,
      "outputs": [
        {
          "output_type": "execute_result",
          "data": {
            "text/html": [
              "<style  type=\"text/css\" >\n",
              "    #T_615a5e86_b185_11ea_b9e5_0242ac1c0002row0_col0 {\n",
              "            background-color:  #b40426;\n",
              "            color:  #f1f1f1;\n",
              "        }    #T_615a5e86_b185_11ea_b9e5_0242ac1c0002row0_col1 {\n",
              "            background-color:  #6f92f3;\n",
              "            color:  #000000;\n",
              "        }    #T_615a5e86_b185_11ea_b9e5_0242ac1c0002row0_col2 {\n",
              "            background-color:  #f18f71;\n",
              "            color:  #000000;\n",
              "        }    #T_615a5e86_b185_11ea_b9e5_0242ac1c0002row0_col3 {\n",
              "            background-color:  #f18d6f;\n",
              "            color:  #000000;\n",
              "        }    #T_615a5e86_b185_11ea_b9e5_0242ac1c0002row0_col4 {\n",
              "            background-color:  #7093f3;\n",
              "            color:  #000000;\n",
              "        }    #T_615a5e86_b185_11ea_b9e5_0242ac1c0002row0_col5 {\n",
              "            background-color:  #ead4c8;\n",
              "            color:  #000000;\n",
              "        }    #T_615a5e86_b185_11ea_b9e5_0242ac1c0002row1_col0 {\n",
              "            background-color:  #3b4cc0;\n",
              "            color:  #f1f1f1;\n",
              "        }    #T_615a5e86_b185_11ea_b9e5_0242ac1c0002row1_col1 {\n",
              "            background-color:  #b40426;\n",
              "            color:  #f1f1f1;\n",
              "        }    #T_615a5e86_b185_11ea_b9e5_0242ac1c0002row1_col2 {\n",
              "            background-color:  #3b4cc0;\n",
              "            color:  #f1f1f1;\n",
              "        }    #T_615a5e86_b185_11ea_b9e5_0242ac1c0002row1_col3 {\n",
              "            background-color:  #5673e0;\n",
              "            color:  #000000;\n",
              "        }    #T_615a5e86_b185_11ea_b9e5_0242ac1c0002row1_col4 {\n",
              "            background-color:  #3d50c3;\n",
              "            color:  #f1f1f1;\n",
              "        }    #T_615a5e86_b185_11ea_b9e5_0242ac1c0002row1_col5 {\n",
              "            background-color:  #7da0f9;\n",
              "            color:  #000000;\n",
              "        }    #T_615a5e86_b185_11ea_b9e5_0242ac1c0002row2_col0 {\n",
              "            background-color:  #f39778;\n",
              "            color:  #000000;\n",
              "        }    #T_615a5e86_b185_11ea_b9e5_0242ac1c0002row2_col1 {\n",
              "            background-color:  #5470de;\n",
              "            color:  #000000;\n",
              "        }    #T_615a5e86_b185_11ea_b9e5_0242ac1c0002row2_col2 {\n",
              "            background-color:  #b40426;\n",
              "            color:  #f1f1f1;\n",
              "        }    #T_615a5e86_b185_11ea_b9e5_0242ac1c0002row2_col3 {\n",
              "            background-color:  #b70d28;\n",
              "            color:  #f1f1f1;\n",
              "        }    #T_615a5e86_b185_11ea_b9e5_0242ac1c0002row2_col4 {\n",
              "            background-color:  #688aef;\n",
              "            color:  #000000;\n",
              "        }    #T_615a5e86_b185_11ea_b9e5_0242ac1c0002row2_col5 {\n",
              "            background-color:  #b2ccfb;\n",
              "            color:  #000000;\n",
              "        }    #T_615a5e86_b185_11ea_b9e5_0242ac1c0002row3_col0 {\n",
              "            background-color:  #f59f80;\n",
              "            color:  #000000;\n",
              "        }    #T_615a5e86_b185_11ea_b9e5_0242ac1c0002row3_col1 {\n",
              "            background-color:  #5470de;\n",
              "            color:  #000000;\n",
              "        }    #T_615a5e86_b185_11ea_b9e5_0242ac1c0002row3_col2 {\n",
              "            background-color:  #b8122a;\n",
              "            color:  #f1f1f1;\n",
              "        }    #T_615a5e86_b185_11ea_b9e5_0242ac1c0002row3_col3 {\n",
              "            background-color:  #b40426;\n",
              "            color:  #f1f1f1;\n",
              "        }    #T_615a5e86_b185_11ea_b9e5_0242ac1c0002row3_col4 {\n",
              "            background-color:  #3b4cc0;\n",
              "            color:  #f1f1f1;\n",
              "        }    #T_615a5e86_b185_11ea_b9e5_0242ac1c0002row3_col5 {\n",
              "            background-color:  #aec9fc;\n",
              "            color:  #000000;\n",
              "        }    #T_615a5e86_b185_11ea_b9e5_0242ac1c0002row4_col0 {\n",
              "            background-color:  #3b4cc0;\n",
              "            color:  #f1f1f1;\n",
              "        }    #T_615a5e86_b185_11ea_b9e5_0242ac1c0002row4_col1 {\n",
              "            background-color:  #3b4cc0;\n",
              "            color:  #f1f1f1;\n",
              "        }    #T_615a5e86_b185_11ea_b9e5_0242ac1c0002row4_col2 {\n",
              "            background-color:  #4c66d6;\n",
              "            color:  #000000;\n",
              "        }    #T_615a5e86_b185_11ea_b9e5_0242ac1c0002row4_col3 {\n",
              "            background-color:  #3b4cc0;\n",
              "            color:  #f1f1f1;\n",
              "        }    #T_615a5e86_b185_11ea_b9e5_0242ac1c0002row4_col4 {\n",
              "            background-color:  #b40426;\n",
              "            color:  #f1f1f1;\n",
              "        }    #T_615a5e86_b185_11ea_b9e5_0242ac1c0002row4_col5 {\n",
              "            background-color:  #3b4cc0;\n",
              "            color:  #f1f1f1;\n",
              "        }    #T_615a5e86_b185_11ea_b9e5_0242ac1c0002row5_col0 {\n",
              "            background-color:  #e2dad5;\n",
              "            color:  #000000;\n",
              "        }    #T_615a5e86_b185_11ea_b9e5_0242ac1c0002row5_col1 {\n",
              "            background-color:  #98b9ff;\n",
              "            color:  #000000;\n",
              "        }    #T_615a5e86_b185_11ea_b9e5_0242ac1c0002row5_col2 {\n",
              "            background-color:  #b5cdfa;\n",
              "            color:  #000000;\n",
              "        }    #T_615a5e86_b185_11ea_b9e5_0242ac1c0002row5_col3 {\n",
              "            background-color:  #c5d6f2;\n",
              "            color:  #000000;\n",
              "        }    #T_615a5e86_b185_11ea_b9e5_0242ac1c0002row5_col4 {\n",
              "            background-color:  #5b7ae5;\n",
              "            color:  #000000;\n",
              "        }    #T_615a5e86_b185_11ea_b9e5_0242ac1c0002row5_col5 {\n",
              "            background-color:  #b40426;\n",
              "            color:  #f1f1f1;\n",
              "        }</style><table id=\"T_615a5e86_b185_11ea_b9e5_0242ac1c0002\" ><thead>    <tr>        <th class=\"blank level0\" ></th>        <th class=\"col_heading level0 col0\" >Vl_Global</th>        <th class=\"col_heading level0 col1\" >Vl_Repasse</th>        <th class=\"col_heading level0 col2\" >Vl_Contrapartida_Total</th>        <th class=\"col_heading level0 col3\" >Vl_Contrapartida_Financ</th>        <th class=\"col_heading level0 col4\" >Vl_Contrapartida_Bens_Serv</th>        <th class=\"col_heading level0 col5\" >Vl_Desembolsado</th>    </tr></thead><tbody>\n",
              "                <tr>\n",
              "                        <th id=\"T_615a5e86_b185_11ea_b9e5_0242ac1c0002level0_row0\" class=\"row_heading level0 row0\" >Vl_Global</th>\n",
              "                        <td id=\"T_615a5e86_b185_11ea_b9e5_0242ac1c0002row0_col0\" class=\"data row0 col0\" >1.000000</td>\n",
              "                        <td id=\"T_615a5e86_b185_11ea_b9e5_0242ac1c0002row0_col1\" class=\"data row0 col1\" >0.173271</td>\n",
              "                        <td id=\"T_615a5e86_b185_11ea_b9e5_0242ac1c0002row0_col2\" class=\"data row0 col2\" >0.797098</td>\n",
              "                        <td id=\"T_615a5e86_b185_11ea_b9e5_0242ac1c0002row0_col3\" class=\"data row0 col3\" >0.780352</td>\n",
              "                        <td id=\"T_615a5e86_b185_11ea_b9e5_0242ac1c0002row0_col4\" class=\"data row0 col4\" >0.171816</td>\n",
              "                        <td id=\"T_615a5e86_b185_11ea_b9e5_0242ac1c0002row0_col5\" class=\"data row0 col5\" >0.605266</td>\n",
              "            </tr>\n",
              "            <tr>\n",
              "                        <th id=\"T_615a5e86_b185_11ea_b9e5_0242ac1c0002level0_row1\" class=\"row_heading level0 row1\" >Vl_Repasse</th>\n",
              "                        <td id=\"T_615a5e86_b185_11ea_b9e5_0242ac1c0002row1_col0\" class=\"data row1 col0\" >0.173271</td>\n",
              "                        <td id=\"T_615a5e86_b185_11ea_b9e5_0242ac1c0002row1_col1\" class=\"data row1 col1\" >1.000000</td>\n",
              "                        <td id=\"T_615a5e86_b185_11ea_b9e5_0242ac1c0002row1_col2\" class=\"data row1 col2\" >0.093581</td>\n",
              "                        <td id=\"T_615a5e86_b185_11ea_b9e5_0242ac1c0002row1_col3\" class=\"data row1 col3\" >0.093094</td>\n",
              "                        <td id=\"T_615a5e86_b185_11ea_b9e5_0242ac1c0002row1_col4\" class=\"data row1 col4\" >0.010263</td>\n",
              "                        <td id=\"T_615a5e86_b185_11ea_b9e5_0242ac1c0002row1_col5\" class=\"data row1 col5\" >0.290949</td>\n",
              "            </tr>\n",
              "            <tr>\n",
              "                        <th id=\"T_615a5e86_b185_11ea_b9e5_0242ac1c0002level0_row2\" class=\"row_heading level0 row2\" >Vl_Contrapartida_Total</th>\n",
              "                        <td id=\"T_615a5e86_b185_11ea_b9e5_0242ac1c0002row2_col0\" class=\"data row2 col0\" >0.797098</td>\n",
              "                        <td id=\"T_615a5e86_b185_11ea_b9e5_0242ac1c0002row2_col1\" class=\"data row2 col1\" >0.093581</td>\n",
              "                        <td id=\"T_615a5e86_b185_11ea_b9e5_0242ac1c0002row2_col2\" class=\"data row2 col2\" >1.000000</td>\n",
              "                        <td id=\"T_615a5e86_b185_11ea_b9e5_0242ac1c0002row2_col3\" class=\"data row2 col3\" >0.989046</td>\n",
              "                        <td id=\"T_615a5e86_b185_11ea_b9e5_0242ac1c0002row2_col4\" class=\"data row2 col4\" >0.148181</td>\n",
              "                        <td id=\"T_615a5e86_b185_11ea_b9e5_0242ac1c0002row2_col5\" class=\"data row2 col5\" >0.425958</td>\n",
              "            </tr>\n",
              "            <tr>\n",
              "                        <th id=\"T_615a5e86_b185_11ea_b9e5_0242ac1c0002level0_row3\" class=\"row_heading level0 row3\" >Vl_Contrapartida_Financ</th>\n",
              "                        <td id=\"T_615a5e86_b185_11ea_b9e5_0242ac1c0002row3_col0\" class=\"data row3 col0\" >0.780352</td>\n",
              "                        <td id=\"T_615a5e86_b185_11ea_b9e5_0242ac1c0002row3_col1\" class=\"data row3 col1\" >0.093094</td>\n",
              "                        <td id=\"T_615a5e86_b185_11ea_b9e5_0242ac1c0002row3_col2\" class=\"data row3 col2\" >0.989046</td>\n",
              "                        <td id=\"T_615a5e86_b185_11ea_b9e5_0242ac1c0002row3_col3\" class=\"data row3 col3\" >1.000000</td>\n",
              "                        <td id=\"T_615a5e86_b185_11ea_b9e5_0242ac1c0002row3_col4\" class=\"data row3 col4\" >0.000582</td>\n",
              "                        <td id=\"T_615a5e86_b185_11ea_b9e5_0242ac1c0002row3_col5\" class=\"data row3 col5\" >0.414747</td>\n",
              "            </tr>\n",
              "            <tr>\n",
              "                        <th id=\"T_615a5e86_b185_11ea_b9e5_0242ac1c0002level0_row4\" class=\"row_heading level0 row4\" >Vl_Contrapartida_Bens_Serv</th>\n",
              "                        <td id=\"T_615a5e86_b185_11ea_b9e5_0242ac1c0002row4_col0\" class=\"data row4 col0\" >0.171816</td>\n",
              "                        <td id=\"T_615a5e86_b185_11ea_b9e5_0242ac1c0002row4_col1\" class=\"data row4 col1\" >0.010263</td>\n",
              "                        <td id=\"T_615a5e86_b185_11ea_b9e5_0242ac1c0002row4_col2\" class=\"data row4 col2\" >0.148181</td>\n",
              "                        <td id=\"T_615a5e86_b185_11ea_b9e5_0242ac1c0002row4_col3\" class=\"data row4 col3\" >0.000582</td>\n",
              "                        <td id=\"T_615a5e86_b185_11ea_b9e5_0242ac1c0002row4_col4\" class=\"data row4 col4\" >1.000000</td>\n",
              "                        <td id=\"T_615a5e86_b185_11ea_b9e5_0242ac1c0002row4_col5\" class=\"data row4 col5\" >0.106975</td>\n",
              "            </tr>\n",
              "            <tr>\n",
              "                        <th id=\"T_615a5e86_b185_11ea_b9e5_0242ac1c0002level0_row5\" class=\"row_heading level0 row5\" >Vl_Desembolsado</th>\n",
              "                        <td id=\"T_615a5e86_b185_11ea_b9e5_0242ac1c0002row5_col0\" class=\"data row5 col0\" >0.605266</td>\n",
              "                        <td id=\"T_615a5e86_b185_11ea_b9e5_0242ac1c0002row5_col1\" class=\"data row5 col1\" >0.290949</td>\n",
              "                        <td id=\"T_615a5e86_b185_11ea_b9e5_0242ac1c0002row5_col2\" class=\"data row5 col2\" >0.425958</td>\n",
              "                        <td id=\"T_615a5e86_b185_11ea_b9e5_0242ac1c0002row5_col3\" class=\"data row5 col3\" >0.414747</td>\n",
              "                        <td id=\"T_615a5e86_b185_11ea_b9e5_0242ac1c0002row5_col4\" class=\"data row5 col4\" >0.106975</td>\n",
              "                        <td id=\"T_615a5e86_b185_11ea_b9e5_0242ac1c0002row5_col5\" class=\"data row5 col5\" >1.000000</td>\n",
              "            </tr>\n",
              "    </tbody></table>"
            ],
            "text/plain": [
              "<pandas.io.formats.style.Styler at 0x7fd4db09f128>"
            ]
          },
          "metadata": {
            "tags": []
          },
          "execution_count": 155
        }
      ]
    },
    {
      "cell_type": "markdown",
      "metadata": {
        "id": "XqTBg10iIxX9",
        "colab_type": "text"
      },
      "source": [
        "Removendo atributos com correlação acima de 90%"
      ]
    },
    {
      "cell_type": "code",
      "metadata": {
        "id": "1XwEIDG4Vv1j",
        "colab_type": "code",
        "colab": {
          "base_uri": "https://localhost:8080/",
          "height": 124
        },
        "outputId": "41629e7c-18b9-4d7d-e839-244524139451"
      },
      "source": [
        "import numpy as np\n",
        "\n",
        "m = ~(corr.mask(np.eye(len(corr), dtype=bool)).abs() > 0.9).any()\n",
        "\n",
        "corrFilter = corr.loc[m, m]\n",
        "corrFilter.style.background_gradient(cmap='coolwarm')"
      ],
      "execution_count": 156,
      "outputs": [
        {
          "output_type": "execute_result",
          "data": {
            "text/html": [
              "<style  type=\"text/css\" >\n",
              "    #T_615f1c82_b185_11ea_b9e5_0242ac1c0002row0_col0 {\n",
              "            background-color:  #b40426;\n",
              "            color:  #f1f1f1;\n",
              "        }    #T_615f1c82_b185_11ea_b9e5_0242ac1c0002row0_col1 {\n",
              "            background-color:  #6f92f3;\n",
              "            color:  #000000;\n",
              "        }    #T_615f1c82_b185_11ea_b9e5_0242ac1c0002row0_col2 {\n",
              "            background-color:  #6e90f2;\n",
              "            color:  #000000;\n",
              "        }    #T_615f1c82_b185_11ea_b9e5_0242ac1c0002row0_col3 {\n",
              "            background-color:  #ead4c8;\n",
              "            color:  #000000;\n",
              "        }    #T_615f1c82_b185_11ea_b9e5_0242ac1c0002row1_col0 {\n",
              "            background-color:  #3b4cc0;\n",
              "            color:  #f1f1f1;\n",
              "        }    #T_615f1c82_b185_11ea_b9e5_0242ac1c0002row1_col1 {\n",
              "            background-color:  #b40426;\n",
              "            color:  #f1f1f1;\n",
              "        }    #T_615f1c82_b185_11ea_b9e5_0242ac1c0002row1_col2 {\n",
              "            background-color:  #3b4cc0;\n",
              "            color:  #f1f1f1;\n",
              "        }    #T_615f1c82_b185_11ea_b9e5_0242ac1c0002row1_col3 {\n",
              "            background-color:  #7da0f9;\n",
              "            color:  #000000;\n",
              "        }    #T_615f1c82_b185_11ea_b9e5_0242ac1c0002row2_col0 {\n",
              "            background-color:  #3b4cc0;\n",
              "            color:  #f1f1f1;\n",
              "        }    #T_615f1c82_b185_11ea_b9e5_0242ac1c0002row2_col1 {\n",
              "            background-color:  #3b4cc0;\n",
              "            color:  #f1f1f1;\n",
              "        }    #T_615f1c82_b185_11ea_b9e5_0242ac1c0002row2_col2 {\n",
              "            background-color:  #b40426;\n",
              "            color:  #f1f1f1;\n",
              "        }    #T_615f1c82_b185_11ea_b9e5_0242ac1c0002row2_col3 {\n",
              "            background-color:  #3b4cc0;\n",
              "            color:  #f1f1f1;\n",
              "        }    #T_615f1c82_b185_11ea_b9e5_0242ac1c0002row3_col0 {\n",
              "            background-color:  #e2dad5;\n",
              "            color:  #000000;\n",
              "        }    #T_615f1c82_b185_11ea_b9e5_0242ac1c0002row3_col1 {\n",
              "            background-color:  #98b9ff;\n",
              "            color:  #000000;\n",
              "        }    #T_615f1c82_b185_11ea_b9e5_0242ac1c0002row3_col2 {\n",
              "            background-color:  #5977e3;\n",
              "            color:  #000000;\n",
              "        }    #T_615f1c82_b185_11ea_b9e5_0242ac1c0002row3_col3 {\n",
              "            background-color:  #b40426;\n",
              "            color:  #f1f1f1;\n",
              "        }</style><table id=\"T_615f1c82_b185_11ea_b9e5_0242ac1c0002\" ><thead>    <tr>        <th class=\"blank level0\" ></th>        <th class=\"col_heading level0 col0\" >Vl_Global</th>        <th class=\"col_heading level0 col1\" >Vl_Repasse</th>        <th class=\"col_heading level0 col2\" >Vl_Contrapartida_Bens_Serv</th>        <th class=\"col_heading level0 col3\" >Vl_Desembolsado</th>    </tr></thead><tbody>\n",
              "                <tr>\n",
              "                        <th id=\"T_615f1c82_b185_11ea_b9e5_0242ac1c0002level0_row0\" class=\"row_heading level0 row0\" >Vl_Global</th>\n",
              "                        <td id=\"T_615f1c82_b185_11ea_b9e5_0242ac1c0002row0_col0\" class=\"data row0 col0\" >1.000000</td>\n",
              "                        <td id=\"T_615f1c82_b185_11ea_b9e5_0242ac1c0002row0_col1\" class=\"data row0 col1\" >0.173271</td>\n",
              "                        <td id=\"T_615f1c82_b185_11ea_b9e5_0242ac1c0002row0_col2\" class=\"data row0 col2\" >0.171816</td>\n",
              "                        <td id=\"T_615f1c82_b185_11ea_b9e5_0242ac1c0002row0_col3\" class=\"data row0 col3\" >0.605266</td>\n",
              "            </tr>\n",
              "            <tr>\n",
              "                        <th id=\"T_615f1c82_b185_11ea_b9e5_0242ac1c0002level0_row1\" class=\"row_heading level0 row1\" >Vl_Repasse</th>\n",
              "                        <td id=\"T_615f1c82_b185_11ea_b9e5_0242ac1c0002row1_col0\" class=\"data row1 col0\" >0.173271</td>\n",
              "                        <td id=\"T_615f1c82_b185_11ea_b9e5_0242ac1c0002row1_col1\" class=\"data row1 col1\" >1.000000</td>\n",
              "                        <td id=\"T_615f1c82_b185_11ea_b9e5_0242ac1c0002row1_col2\" class=\"data row1 col2\" >0.010263</td>\n",
              "                        <td id=\"T_615f1c82_b185_11ea_b9e5_0242ac1c0002row1_col3\" class=\"data row1 col3\" >0.290949</td>\n",
              "            </tr>\n",
              "            <tr>\n",
              "                        <th id=\"T_615f1c82_b185_11ea_b9e5_0242ac1c0002level0_row2\" class=\"row_heading level0 row2\" >Vl_Contrapartida_Bens_Serv</th>\n",
              "                        <td id=\"T_615f1c82_b185_11ea_b9e5_0242ac1c0002row2_col0\" class=\"data row2 col0\" >0.171816</td>\n",
              "                        <td id=\"T_615f1c82_b185_11ea_b9e5_0242ac1c0002row2_col1\" class=\"data row2 col1\" >0.010263</td>\n",
              "                        <td id=\"T_615f1c82_b185_11ea_b9e5_0242ac1c0002row2_col2\" class=\"data row2 col2\" >1.000000</td>\n",
              "                        <td id=\"T_615f1c82_b185_11ea_b9e5_0242ac1c0002row2_col3\" class=\"data row2 col3\" >0.106975</td>\n",
              "            </tr>\n",
              "            <tr>\n",
              "                        <th id=\"T_615f1c82_b185_11ea_b9e5_0242ac1c0002level0_row3\" class=\"row_heading level0 row3\" >Vl_Desembolsado</th>\n",
              "                        <td id=\"T_615f1c82_b185_11ea_b9e5_0242ac1c0002row3_col0\" class=\"data row3 col0\" >0.605266</td>\n",
              "                        <td id=\"T_615f1c82_b185_11ea_b9e5_0242ac1c0002row3_col1\" class=\"data row3 col1\" >0.290949</td>\n",
              "                        <td id=\"T_615f1c82_b185_11ea_b9e5_0242ac1c0002row3_col2\" class=\"data row3 col2\" >0.106975</td>\n",
              "                        <td id=\"T_615f1c82_b185_11ea_b9e5_0242ac1c0002row3_col3\" class=\"data row3 col3\" >1.000000</td>\n",
              "            </tr>\n",
              "    </tbody></table>"
            ],
            "text/plain": [
              "<pandas.io.formats.style.Styler at 0x7fd52ea30e10>"
            ]
          },
          "metadata": {
            "tags": []
          },
          "execution_count": 156
        }
      ]
    },
    {
      "cell_type": "markdown",
      "metadata": {
        "id": "kBauibfrOQL_",
        "colab_type": "text"
      },
      "source": [
        "Visualização dos dados"
      ]
    },
    {
      "cell_type": "code",
      "metadata": {
        "id": "r79xqFQQW4xa",
        "colab_type": "code",
        "colab": {
          "base_uri": "https://localhost:8080/",
          "height": 419
        },
        "outputId": "8dd49fc5-c331-4264-a7f5-cc7d0c053b4f"
      },
      "source": [
        "dados_convenios[corrFilter.columns]"
      ],
      "execution_count": 157,
      "outputs": [
        {
          "output_type": "execute_result",
          "data": {
            "text/html": [
              "<div>\n",
              "<style scoped>\n",
              "    .dataframe tbody tr th:only-of-type {\n",
              "        vertical-align: middle;\n",
              "    }\n",
              "\n",
              "    .dataframe tbody tr th {\n",
              "        vertical-align: top;\n",
              "    }\n",
              "\n",
              "    .dataframe thead th {\n",
              "        text-align: right;\n",
              "    }\n",
              "</style>\n",
              "<table border=\"1\" class=\"dataframe\">\n",
              "  <thead>\n",
              "    <tr style=\"text-align: right;\">\n",
              "      <th></th>\n",
              "      <th>Vl_Global</th>\n",
              "      <th>Vl_Repasse</th>\n",
              "      <th>Vl_Contrapartida_Bens_Serv</th>\n",
              "      <th>Vl_Desembolsado</th>\n",
              "    </tr>\n",
              "  </thead>\n",
              "  <tbody>\n",
              "    <tr>\n",
              "      <th>0</th>\n",
              "      <td>110000.00</td>\n",
              "      <td>99000.0</td>\n",
              "      <td>0.0</td>\n",
              "      <td>0.0</td>\n",
              "    </tr>\n",
              "    <tr>\n",
              "      <th>1</th>\n",
              "      <td>122222.23</td>\n",
              "      <td>110000.0</td>\n",
              "      <td>0.0</td>\n",
              "      <td>110000.0</td>\n",
              "    </tr>\n",
              "    <tr>\n",
              "      <th>2</th>\n",
              "      <td>334000.00</td>\n",
              "      <td>300000.0</td>\n",
              "      <td>0.0</td>\n",
              "      <td>0.0</td>\n",
              "    </tr>\n",
              "    <tr>\n",
              "      <th>3</th>\n",
              "      <td>444445.00</td>\n",
              "      <td>400000.0</td>\n",
              "      <td>0.0</td>\n",
              "      <td>400000.0</td>\n",
              "    </tr>\n",
              "    <tr>\n",
              "      <th>4</th>\n",
              "      <td>777825.00</td>\n",
              "      <td>699800.0</td>\n",
              "      <td>78025.0</td>\n",
              "      <td>699800.0</td>\n",
              "    </tr>\n",
              "    <tr>\n",
              "      <th>...</th>\n",
              "      <td>...</td>\n",
              "      <td>...</td>\n",
              "      <td>...</td>\n",
              "      <td>...</td>\n",
              "    </tr>\n",
              "    <tr>\n",
              "      <th>63032</th>\n",
              "      <td>315000.00</td>\n",
              "      <td>250000.0</td>\n",
              "      <td>0.0</td>\n",
              "      <td>0.0</td>\n",
              "    </tr>\n",
              "    <tr>\n",
              "      <th>63033</th>\n",
              "      <td>685000.00</td>\n",
              "      <td>665000.0</td>\n",
              "      <td>0.0</td>\n",
              "      <td>0.0</td>\n",
              "    </tr>\n",
              "    <tr>\n",
              "      <th>63034</th>\n",
              "      <td>1000571.91</td>\n",
              "      <td>950000.0</td>\n",
              "      <td>0.0</td>\n",
              "      <td>0.0</td>\n",
              "    </tr>\n",
              "    <tr>\n",
              "      <th>63035</th>\n",
              "      <td>109000.00</td>\n",
              "      <td>100000.0</td>\n",
              "      <td>0.0</td>\n",
              "      <td>0.0</td>\n",
              "    </tr>\n",
              "    <tr>\n",
              "      <th>63036</th>\n",
              "      <td>5208334.00</td>\n",
              "      <td>5000000.0</td>\n",
              "      <td>0.0</td>\n",
              "      <td>0.0</td>\n",
              "    </tr>\n",
              "  </tbody>\n",
              "</table>\n",
              "<p>63037 rows × 4 columns</p>\n",
              "</div>"
            ],
            "text/plain": [
              "        Vl_Global  Vl_Repasse  Vl_Contrapartida_Bens_Serv  Vl_Desembolsado\n",
              "0       110000.00     99000.0                         0.0              0.0\n",
              "1       122222.23    110000.0                         0.0         110000.0\n",
              "2       334000.00    300000.0                         0.0              0.0\n",
              "3       444445.00    400000.0                         0.0         400000.0\n",
              "4       777825.00    699800.0                     78025.0         699800.0\n",
              "...           ...         ...                         ...              ...\n",
              "63032   315000.00    250000.0                         0.0              0.0\n",
              "63033   685000.00    665000.0                         0.0              0.0\n",
              "63034  1000571.91    950000.0                         0.0              0.0\n",
              "63035   109000.00    100000.0                         0.0              0.0\n",
              "63036  5208334.00   5000000.0                         0.0              0.0\n",
              "\n",
              "[63037 rows x 4 columns]"
            ]
          },
          "metadata": {
            "tags": []
          },
          "execution_count": 157
        }
      ]
    },
    {
      "cell_type": "markdown",
      "metadata": {
        "id": "_FxzqoU-BC-Z",
        "colab_type": "text"
      },
      "source": [
        "# Normalização e discretização"
      ]
    },
    {
      "cell_type": "code",
      "metadata": {
        "id": "fjEWuD6uASwe",
        "colab_type": "code",
        "colab": {}
      },
      "source": [
        "# Baixando o arquivo referente aos gastos com Cartão Coportativo Julho/2018\n",
        "!wget 'http://www.portaltransparencia.gov.br/download-de-dados/cpgf/201807' -O CPGF.zip\n",
        "\n",
        "#Lendo os dados do CSV e carregando no DataFrame do Pandas\n",
        "dados_cpgf = pd.read_csv('CPGF.zip', compression=\"zip\", encoding = \"ISO-8859-1\", sep=';')\n",
        "\n",
        "# Pegando somente a coluna que será utilizada\n",
        "dados_cpgf = dados_cpgf[['VALOR TRANSAÇÃO']]\n",
        "\n",
        "# Convertendo coluna 'VALOR TRANSAÇÃO' para tipo númerico\n",
        "dados_cpgf['VALOR TRANSAÇÃO'] = dados_cpgf['VALOR TRANSAÇÃO'].str.replace(',', '.', 1)\n",
        "dados_cpgf['VALOR TRANSAÇÃO'] = pd.to_numeric(dados_cpgf['VALOR TRANSAÇÃO'])"
      ],
      "execution_count": 169,
      "outputs": []
    },
    {
      "cell_type": "code",
      "metadata": {
        "id": "-UELTevCRqRR",
        "colab_type": "code",
        "colab": {
          "base_uri": "https://localhost:8080/",
          "height": 419
        },
        "outputId": "1c3ad5fa-24f0-4f7d-9c36-447be6b11f84"
      },
      "source": [
        "dados_cpgf"
      ],
      "execution_count": 159,
      "outputs": [
        {
          "output_type": "execute_result",
          "data": {
            "text/html": [
              "<div>\n",
              "<style scoped>\n",
              "    .dataframe tbody tr th:only-of-type {\n",
              "        vertical-align: middle;\n",
              "    }\n",
              "\n",
              "    .dataframe tbody tr th {\n",
              "        vertical-align: top;\n",
              "    }\n",
              "\n",
              "    .dataframe thead th {\n",
              "        text-align: right;\n",
              "    }\n",
              "</style>\n",
              "<table border=\"1\" class=\"dataframe\">\n",
              "  <thead>\n",
              "    <tr style=\"text-align: right;\">\n",
              "      <th></th>\n",
              "      <th>VALOR TRANSAÇÃO</th>\n",
              "    </tr>\n",
              "  </thead>\n",
              "  <tbody>\n",
              "    <tr>\n",
              "      <th>0</th>\n",
              "      <td>100.00</td>\n",
              "    </tr>\n",
              "    <tr>\n",
              "      <th>1</th>\n",
              "      <td>49.95</td>\n",
              "    </tr>\n",
              "    <tr>\n",
              "      <th>2</th>\n",
              "      <td>577.73</td>\n",
              "    </tr>\n",
              "    <tr>\n",
              "      <th>3</th>\n",
              "      <td>450.00</td>\n",
              "    </tr>\n",
              "    <tr>\n",
              "      <th>4</th>\n",
              "      <td>14.48</td>\n",
              "    </tr>\n",
              "    <tr>\n",
              "      <th>...</th>\n",
              "      <td>...</td>\n",
              "    </tr>\n",
              "    <tr>\n",
              "      <th>11255</th>\n",
              "      <td>206.69</td>\n",
              "    </tr>\n",
              "    <tr>\n",
              "      <th>11256</th>\n",
              "      <td>235.01</td>\n",
              "    </tr>\n",
              "    <tr>\n",
              "      <th>11257</th>\n",
              "      <td>182.10</td>\n",
              "    </tr>\n",
              "    <tr>\n",
              "      <th>11258</th>\n",
              "      <td>248.67</td>\n",
              "    </tr>\n",
              "    <tr>\n",
              "      <th>11259</th>\n",
              "      <td>156.50</td>\n",
              "    </tr>\n",
              "  </tbody>\n",
              "</table>\n",
              "<p>11260 rows × 1 columns</p>\n",
              "</div>"
            ],
            "text/plain": [
              "       VALOR TRANSAÇÃO\n",
              "0               100.00\n",
              "1                49.95\n",
              "2               577.73\n",
              "3               450.00\n",
              "4                14.48\n",
              "...                ...\n",
              "11255           206.69\n",
              "11256           235.01\n",
              "11257           182.10\n",
              "11258           248.67\n",
              "11259           156.50\n",
              "\n",
              "[11260 rows x 1 columns]"
            ]
          },
          "metadata": {
            "tags": []
          },
          "execution_count": 159
        }
      ]
    },
    {
      "cell_type": "markdown",
      "metadata": {
        "id": "NLFA4xFFdF7Q",
        "colab_type": "text"
      },
      "source": [
        "Usar normalização min-max sobre `VALOR TRANSAÇÃO` para o intervalo [0.2, 0.8]. "
      ]
    },
    {
      "cell_type": "code",
      "metadata": {
        "id": "4Wzc6y3QStPu",
        "colab_type": "code",
        "colab": {}
      },
      "source": [
        "from sklearn.preprocessing import MinMaxScaler"
      ],
      "execution_count": 160,
      "outputs": []
    },
    {
      "cell_type": "code",
      "metadata": {
        "id": "rtjtaNH5Suf1",
        "colab_type": "code",
        "colab": {}
      },
      "source": [
        "scaler = MinMaxScaler(feature_range=(0.2, 0.8))\n",
        "scaler.fit(dados_cpgf)\n",
        "normalize_minmax = pd.DataFrame(scaler.transform(dados_cpgf))"
      ],
      "execution_count": 170,
      "outputs": []
    },
    {
      "cell_type": "code",
      "metadata": {
        "id": "x6GxMRmhY0CX",
        "colab_type": "code",
        "colab": {
          "base_uri": "https://localhost:8080/",
          "height": 297
        },
        "outputId": "6f3f7bf9-0b65-4ec0-e39a-c72877c48e62"
      },
      "source": [
        "normalize_minmax.describe()"
      ],
      "execution_count": 162,
      "outputs": [
        {
          "output_type": "execute_result",
          "data": {
            "text/html": [
              "<div>\n",
              "<style scoped>\n",
              "    .dataframe tbody tr th:only-of-type {\n",
              "        vertical-align: middle;\n",
              "    }\n",
              "\n",
              "    .dataframe tbody tr th {\n",
              "        vertical-align: top;\n",
              "    }\n",
              "\n",
              "    .dataframe thead th {\n",
              "        text-align: right;\n",
              "    }\n",
              "</style>\n",
              "<table border=\"1\" class=\"dataframe\">\n",
              "  <thead>\n",
              "    <tr style=\"text-align: right;\">\n",
              "      <th></th>\n",
              "      <th>0</th>\n",
              "    </tr>\n",
              "  </thead>\n",
              "  <tbody>\n",
              "    <tr>\n",
              "      <th>count</th>\n",
              "      <td>11260.000000</td>\n",
              "    </tr>\n",
              "    <tr>\n",
              "      <th>mean</th>\n",
              "      <td>0.207006</td>\n",
              "    </tr>\n",
              "    <tr>\n",
              "      <th>std</th>\n",
              "      <td>0.018264</td>\n",
              "    </tr>\n",
              "    <tr>\n",
              "      <th>min</th>\n",
              "      <td>0.200000</td>\n",
              "    </tr>\n",
              "    <tr>\n",
              "      <th>25%</th>\n",
              "      <td>0.201355</td>\n",
              "    </tr>\n",
              "    <tr>\n",
              "      <th>50%</th>\n",
              "      <td>0.203492</td>\n",
              "    </tr>\n",
              "    <tr>\n",
              "      <th>75%</th>\n",
              "      <td>0.208611</td>\n",
              "    </tr>\n",
              "    <tr>\n",
              "      <th>max</th>\n",
              "      <td>0.800000</td>\n",
              "    </tr>\n",
              "  </tbody>\n",
              "</table>\n",
              "</div>"
            ],
            "text/plain": [
              "                  0\n",
              "count  11260.000000\n",
              "mean       0.207006\n",
              "std        0.018264\n",
              "min        0.200000\n",
              "25%        0.201355\n",
              "50%        0.203492\n",
              "75%        0.208611\n",
              "max        0.800000"
            ]
          },
          "metadata": {
            "tags": []
          },
          "execution_count": 162
        }
      ]
    },
    {
      "cell_type": "markdown",
      "metadata": {
        "id": "cPdGTPnc2LEW",
        "colab_type": "text"
      },
      "source": [
        "Normalização gaussiana (Z-score) sobre `VALOR TRANSAÇÃO`"
      ]
    },
    {
      "cell_type": "code",
      "metadata": {
        "id": "ULaW2kPh1h01",
        "colab_type": "code",
        "colab": {
          "base_uri": "https://localhost:8080/",
          "height": 297
        },
        "outputId": "98809d7e-8778-4fee-950e-5bffcf4adf32"
      },
      "source": [
        "from scipy.stats import zscore\n",
        "dados_cpgf.apply(zscore).describe()"
      ],
      "execution_count": 163,
      "outputs": [
        {
          "output_type": "execute_result",
          "data": {
            "text/html": [
              "<div>\n",
              "<style scoped>\n",
              "    .dataframe tbody tr th:only-of-type {\n",
              "        vertical-align: middle;\n",
              "    }\n",
              "\n",
              "    .dataframe tbody tr th {\n",
              "        vertical-align: top;\n",
              "    }\n",
              "\n",
              "    .dataframe thead th {\n",
              "        text-align: right;\n",
              "    }\n",
              "</style>\n",
              "<table border=\"1\" class=\"dataframe\">\n",
              "  <thead>\n",
              "    <tr style=\"text-align: right;\">\n",
              "      <th></th>\n",
              "      <th>VALOR TRANSAÇÃO</th>\n",
              "    </tr>\n",
              "  </thead>\n",
              "  <tbody>\n",
              "    <tr>\n",
              "      <th>count</th>\n",
              "      <td>1.126000e+04</td>\n",
              "    </tr>\n",
              "    <tr>\n",
              "      <th>mean</th>\n",
              "      <td>-1.067076e-15</td>\n",
              "    </tr>\n",
              "    <tr>\n",
              "      <th>std</th>\n",
              "      <td>1.000044e+00</td>\n",
              "    </tr>\n",
              "    <tr>\n",
              "      <th>min</th>\n",
              "      <td>-3.836305e-01</td>\n",
              "    </tr>\n",
              "    <tr>\n",
              "      <th>25%</th>\n",
              "      <td>-3.094166e-01</td>\n",
              "    </tr>\n",
              "    <tr>\n",
              "      <th>50%</th>\n",
              "      <td>-1.924372e-01</td>\n",
              "    </tr>\n",
              "    <tr>\n",
              "      <th>75%</th>\n",
              "      <td>8.784186e-02</td>\n",
              "    </tr>\n",
              "    <tr>\n",
              "      <th>max</th>\n",
              "      <td>3.246908e+01</td>\n",
              "    </tr>\n",
              "  </tbody>\n",
              "</table>\n",
              "</div>"
            ],
            "text/plain": [
              "       VALOR TRANSAÇÃO\n",
              "count     1.126000e+04\n",
              "mean     -1.067076e-15\n",
              "std       1.000044e+00\n",
              "min      -3.836305e-01\n",
              "25%      -3.094166e-01\n",
              "50%      -1.924372e-01\n",
              "75%       8.784186e-02\n",
              "max       3.246908e+01"
            ]
          },
          "metadata": {
            "tags": []
          },
          "execution_count": 163
        }
      ]
    },
    {
      "cell_type": "markdown",
      "metadata": {
        "id": "hj8oSWKx2cHo",
        "colab_type": "text"
      },
      "source": [
        "Discretização com largura fixa de 10 intervalos sobre a coluna `VALOR TRANSAÇÃO`"
      ]
    },
    {
      "cell_type": "code",
      "metadata": {
        "id": "Rmy_B--CQwXa",
        "colab_type": "code",
        "colab": {
          "base_uri": "https://localhost:8080/",
          "height": 383
        },
        "outputId": "17242df5-1809-4f19-e8c9-a116617e1c1e"
      },
      "source": [
        "dados_cpgf['bins'] = pd.cut(dados_cpgf['VALOR TRANSAÇÃO'], 10)\n",
        "dados_cpgf.groupby('bins')['VALOR TRANSAÇÃO'].count().plot(kind='bar')"
      ],
      "execution_count": 164,
      "outputs": [
        {
          "output_type": "execute_result",
          "data": {
            "text/plain": [
              "<matplotlib.axes._subplots.AxesSubplot at 0x7fd4d13e7160>"
            ]
          },
          "metadata": {
            "tags": []
          },
          "execution_count": 164
        },
        {
          "output_type": "display_data",
          "data": {
            "image/png": "[encoded data removed]",
            "text/plain": [
              "<Figure size 432x288 with 1 Axes>"
            ]
          },
          "metadata": {
            "tags": [],
            "needs_background": "light"
          }
        }
      ]
    },
    {
      "cell_type": "markdown",
      "metadata": {
        "colab_type": "text",
        "id": "hq-vj75LXahw"
      },
      "source": [
        "Discretização com frequência fixa de 10 intervalos sobre a coluna `VALOR TRANSAÇÃO`"
      ]
    },
    {
      "cell_type": "code",
      "metadata": {
        "id": "j9m7u24mebAu",
        "colab_type": "code",
        "colab": {
          "base_uri": "https://localhost:8080/",
          "height": 383
        },
        "outputId": "90a54c4a-adcc-41e4-a80f-2d67c0fdd7f6"
      },
      "source": [
        "dados_cpgf['bins'] = pd.qcut(dados_cpgf['VALOR TRANSAÇÃO'], 10)\n",
        "dados_cpgf.groupby('bins')['VALOR TRANSAÇÃO'].count().plot(kind='bar')"
      ],
      "execution_count": 165,
      "outputs": [
        {
          "output_type": "execute_result",
          "data": {
            "text/plain": [
              "<matplotlib.axes._subplots.AxesSubplot at 0x7fd4d2c9e5f8>"
            ]
          },
          "metadata": {
            "tags": []
          },
          "execution_count": 165
        },
        {
          "output_type": "display_data",
          "data": {
            "image/png": "[encoded data removed]",
            "text/plain": [
              "<Figure size 432x288 with 1 Axes>"
            ]
          },
          "metadata": {
            "tags": [],
            "needs_background": "light"
          }
        }
      ]
    }
  ]
}